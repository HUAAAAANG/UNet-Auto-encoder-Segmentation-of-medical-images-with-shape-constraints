{
  "cells": [
    {
      "cell_type": "code",
      "source": [
        "from google.colab import drive\n",
        "drive.mount('/content/drive')"
      ],
      "metadata": {
        "id": "hLeWtr2IffPZ",
        "colab": {
          "base_uri": "https://localhost:8080/"
        },
        "outputId": "1d915c6d-6256-4a5d-c2d8-2336ecc88b14"
      },
      "execution_count": 1,
      "outputs": [
        {
          "output_type": "stream",
          "name": "stdout",
          "text": [
            "Mounted at /content/drive\n"
          ]
        }
      ]
    },
    {
      "cell_type": "code",
      "source": [
        "import sys\n",
        "sys.path.append('/content/drive/MyDrive/project_ae')"
      ],
      "metadata": {
        "id": "Tj7UgtZRqHUA"
      },
      "execution_count": 2,
      "outputs": []
    },
    {
      "cell_type": "code",
      "source": [
        "!pip install monai"
      ],
      "metadata": {
        "colab": {
          "base_uri": "https://localhost:8080/"
        },
        "id": "ehV6izLWAKiQ",
        "outputId": "13f8c050-1843-464a-d834-6c674cf2cd80"
      },
      "execution_count": 3,
      "outputs": [
        {
          "output_type": "stream",
          "name": "stdout",
          "text": [
            "Collecting monai\n",
            "  Downloading monai-1.3.0-202310121228-py3-none-any.whl (1.3 MB)\n",
            "\u001b[2K     \u001b[90m━━━━━━━━━━━━━━━━━━━━━━━━━━━━━━━━━━━━━━━━\u001b[0m \u001b[32m1.3/1.3 MB\u001b[0m \u001b[31m17.6 MB/s\u001b[0m eta \u001b[36m0:00:00\u001b[0m\n",
            "\u001b[?25hRequirement already satisfied: numpy>=1.20 in /usr/local/lib/python3.10/dist-packages (from monai) (1.23.5)\n",
            "Requirement already satisfied: torch>=1.9 in /usr/local/lib/python3.10/dist-packages (from monai) (2.1.0+cu118)\n",
            "Requirement already satisfied: filelock in /usr/local/lib/python3.10/dist-packages (from torch>=1.9->monai) (3.13.1)\n",
            "Requirement already satisfied: typing-extensions in /usr/local/lib/python3.10/dist-packages (from torch>=1.9->monai) (4.5.0)\n",
            "Requirement already satisfied: sympy in /usr/local/lib/python3.10/dist-packages (from torch>=1.9->monai) (1.12)\n",
            "Requirement already satisfied: networkx in /usr/local/lib/python3.10/dist-packages (from torch>=1.9->monai) (3.2.1)\n",
            "Requirement already satisfied: jinja2 in /usr/local/lib/python3.10/dist-packages (from torch>=1.9->monai) (3.1.2)\n",
            "Requirement already satisfied: fsspec in /usr/local/lib/python3.10/dist-packages (from torch>=1.9->monai) (2023.6.0)\n",
            "Requirement already satisfied: triton==2.1.0 in /usr/local/lib/python3.10/dist-packages (from torch>=1.9->monai) (2.1.0)\n",
            "Requirement already satisfied: MarkupSafe>=2.0 in /usr/local/lib/python3.10/dist-packages (from jinja2->torch>=1.9->monai) (2.1.3)\n",
            "Requirement already satisfied: mpmath>=0.19 in /usr/local/lib/python3.10/dist-packages (from sympy->torch>=1.9->monai) (1.3.0)\n",
            "Installing collected packages: monai\n",
            "Successfully installed monai-1.3.0\n"
          ]
        }
      ]
    },
    {
      "cell_type": "code",
      "source": [
        "!pip install torchinfo"
      ],
      "metadata": {
        "colab": {
          "base_uri": "https://localhost:8080/"
        },
        "id": "PVFtovfhAjVV",
        "outputId": "59de67f2-1216-41b3-ac76-4b6ae8433997"
      },
      "execution_count": 4,
      "outputs": [
        {
          "output_type": "stream",
          "name": "stdout",
          "text": [
            "Collecting torchinfo\n",
            "  Downloading torchinfo-1.8.0-py3-none-any.whl (23 kB)\n",
            "Installing collected packages: torchinfo\n",
            "Successfully installed torchinfo-1.8.0\n"
          ]
        }
      ]
    },
    {
      "cell_type": "markdown",
      "metadata": {
        "id": "OD5E16d0YaJb"
      },
      "source": [
        "# Convolutional Auto-encoder - Camus Dataset\n",
        "\n",
        "\n",
        "This notebook shows how to train, test and evaluate a Convolutional Auto-encoder to generate an output label exactly as input, so the segmented shape. The dataset is available on [CAMUS dataset](https://humanheart-project.creatis.insa-lyon.fr/database/#collection/6373703d73e9f0047faa1bc8).\n"
      ]
    },
    {
      "cell_type": "markdown",
      "metadata": {
        "id": "qIEP44Z9YaJh"
      },
      "source": [
        "# I. Install dependencies <a class=\"anchor\" id=\"install\"></a>\n"
      ]
    },
    {
      "cell_type": "code",
      "execution_count": 5,
      "metadata": {
        "tags": [],
        "id": "Ia5-ox_3YaJi"
      },
      "outputs": [],
      "source": [
        "%%capture project_path_setup\n",
        "\n",
        "import sys\n",
        "\n",
        "if \"../\" in sys.path:\n",
        "    print(sys.path)\n",
        "else:\n",
        "    sys.path.append(\"../\")\n",
        "    print(sys.path)"
      ]
    },
    {
      "cell_type": "code",
      "execution_count": 6,
      "metadata": {
        "tags": [],
        "id": "VX1_sSaLYaJk"
      },
      "outputs": [],
      "source": [
        "%%capture packages_install\n",
        "\n",
        "# Make sure the repo's package and its dependencies are installed\n",
        "%pip install -e ../."
      ]
    },
    {
      "cell_type": "markdown",
      "metadata": {
        "id": "HNoonUEWYaJk"
      },
      "source": [
        "# II. Dataset <a class=\"anchor\" id=\"dataset\"></a>\n",
        "\n",
        "Once the environment is successfully setup, download the CAMUS dataset by executing the following cell. The dataset will be downloaded to the `data/` folder."
      ]
    },
    {
      "cell_type": "code",
      "execution_count": 7,
      "metadata": {
        "tags": [],
        "colab": {
          "base_uri": "https://localhost:8080/",
          "height": 49,
          "referenced_widgets": [
            "e21dead91ef24dc4a01a4ab54ff58cad",
            "cd19b4b3c15b42489303a5aa108019f7",
            "7ced94dfcc7941f6bfa62c3536ea74d7",
            "7f5250ba727d493fba0c965fbdb0bdb7",
            "09287686b8654706b2143f0ab6c2da58",
            "299e6875e5be4ae3b9724cd63d0a9591",
            "dfa83c0216b7469783516b597c24adfe",
            "748fdace5a7b4b878e4c3ac485ec4636",
            "4d693d20e77148ad882f12cd151999ee",
            "729b3ece8d6f4e2ea89fbb1db2235698",
            "2d5e94cae24744d7948784708c348070"
          ]
        },
        "id": "ZOYCMW4tYaJl",
        "outputId": "5257f87d-f31b-4d54-f2b3-474329d05281"
      },
      "outputs": [
        {
          "output_type": "display_data",
          "data": {
            "text/plain": [
              "Downloading and extracting data:   0%|          | 0/6000 [00:00<?, ?it/s]"
            ],
            "application/vnd.jupyter.widget-view+json": {
              "version_major": 2,
              "version_minor": 0,
              "model_id": "e21dead91ef24dc4a01a4ab54ff58cad"
            }
          },
          "metadata": {}
        }
      ],
      "source": [
        "from pathlib import Path\n",
        "from tqdm.auto import tqdm\n",
        "\n",
        "# Make sure the data is downloaded and extracted where it should be\n",
        "if not Path(\"../data/camus_64\").is_dir():\n",
        "    import zipfile\n",
        "    from io import BytesIO\n",
        "    from urllib.request import urlopen\n",
        "\n",
        "    zipurl = \"https://www.creatis.insa-lyon.fr/~bernard/camus/camus_64.zip\"\n",
        "    with urlopen(zipurl) as zipresp:\n",
        "        with zipfile.ZipFile(BytesIO(zipresp.read())) as zfile:\n",
        "            for member in tqdm(\n",
        "                zfile.infolist(), desc=\"Downloading and extracting data\", position=0, leave=True\n",
        "            ):\n",
        "                try:\n",
        "                    zfile.extract(member, \"../data/\")\n",
        "                except zipfile.error as e:\n",
        "                    pass"
      ]
    },
    {
      "cell_type": "markdown",
      "metadata": {
        "id": "G_2Xkq-kYaJl"
      },
      "source": [
        "Data splitting into training, validation and testing sets (80% of the data for training, 10% for validation and 10% for testing). The split is done by patient ID, so that the same patient will not appear in different sets."
      ]
    },
    {
      "cell_type": "code",
      "execution_count": 8,
      "metadata": {
        "tags": [],
        "id": "KUD5Hm2qYaJm"
      },
      "outputs": [],
      "source": [
        "from pathlib import Path\n",
        "from sklearn.model_selection import train_test_split\n",
        "from src.utils.file_and_folder_operations import subdirs\n",
        "\n",
        "# Specify the data directory\n",
        "data_dir = Path(\"../data/camus_64\").resolve()\n",
        "\n",
        "# List all the patients id\n",
        "keys = subdirs(data_dir, prefix=\"patient\", join=False)\n",
        "\n",
        "# Split the patients into 80/10/10 train/val/test sets\n",
        "train_keys, val_and_test_keys = train_test_split(keys, train_size=0.8, random_state=12345)\n",
        "val_keys, test_keys = train_test_split(val_and_test_keys, test_size=0.5, random_state=12345)\n",
        "\n",
        "train_keys = sorted(train_keys)\n",
        "val_keys = sorted(val_keys)\n",
        "test_keys = sorted(test_keys)\n",
        "\n",
        "# Create train, val and test datalist\n",
        "viws_instants = [\"2CH_ED\", \"2CH_ES\", \"4CH_ED\", \"4CH_ES\"]\n",
        "train_datalist = [\n",
        "    {\n",
        "        \"label\": str(data_dir / key / f\"{key}_{view}_gt.nii.gz\"),\n",
        "    }\n",
        "    for key in train_keys\n",
        "    for view in viws_instants\n",
        "]\n",
        "\n",
        "val_datalist = [\n",
        "    {\n",
        "        \"label\": str(data_dir / key / f\"{key}_{view}_gt.nii.gz\"),\n",
        "    }\n",
        "    for key in val_keys\n",
        "    for view in viws_instants\n",
        "]\n",
        "\n",
        "test_datalist = [\n",
        "    {\n",
        "        \"label\": str(data_dir / key / f\"{key}_{view}_gt.nii.gz\"),\n",
        "    }\n",
        "    for key in test_keys\n",
        "    for view in viws_instants\n",
        "]"
      ]
    },
    {
      "cell_type": "markdown",
      "metadata": {
        "id": "w8YdoovcYaJo"
      },
      "source": [
        "Once the data is split, we will create a `Dataset` object for each set. This object will be used to load the data during training and testing."
      ]
    },
    {
      "cell_type": "code",
      "execution_count": 9,
      "metadata": {
        "id": "L0oGUq79YaJo",
        "outputId": "af5e82e0-de65-4a64-ce54-58544beead6d",
        "colab": {
          "base_uri": "https://localhost:8080/"
        }
      },
      "outputs": [
        {
          "output_type": "stream",
          "name": "stderr",
          "text": [
            "Loading dataset: 100%|██████████| 1600/1600 [00:02<00:00, 572.11it/s]\n",
            "Loading dataset: 100%|██████████| 200/200 [00:00<00:00, 588.03it/s]\n",
            "Loading dataset: 100%|██████████| 200/200 [00:00<00:00, 589.61it/s]\n"
          ]
        }
      ],
      "source": [
        "import numpy as np\n",
        "from monai.data import CacheDataset\n",
        "from monai.transforms import Compose, EnsureChannelFirstd, LoadImaged\n",
        "\n",
        "# Transforms to load data\n",
        "load_transforms = [\n",
        "    LoadImaged(keys=[\"label\"], image_only=True),  # Load label\n",
        "    EnsureChannelFirstd(keys=[\"label\"]),  # Make sure the first dimension is the channel dimension\n",
        "]\n",
        "\n",
        "# Define transforms for training, validation and testing\n",
        "train_transforms = Compose(load_transforms)\n",
        "val_transforms = Compose(load_transforms)\n",
        "test_transforms = Compose(load_transforms)\n",
        "\n",
        "# Use CacheDataset to accelerate training and validation\n",
        "train_ds = CacheDataset(data=train_datalist, transform=train_transforms, cache_rate=1.0)\n",
        "val_ds = CacheDataset(data=val_datalist, transform=val_transforms, cache_rate=1.0)\n",
        "test_ds = CacheDataset(data=test_datalist, transform=test_transforms, cache_rate=1.0)"
      ]
    },
    {
      "cell_type": "code",
      "source": [
        "from matplotlib import pyplot as plt\n",
        "from src.utils.visualizations import imagesc\n",
        "\n",
        "# Get a random index to display the example annotation from each dataset\n",
        "train_idx = np.random.randint(len(train_ds))\n",
        "val_idx = np.random.randint(len(val_ds))\n",
        "test_idx = np.random.randint(len(test_ds))\n",
        "\n",
        "# Print the selected indices\n",
        "print(\"train_idx: \", train_idx)\n",
        "print(\"val_idx: \", val_idx)\n",
        "print(\"test_idx: \", test_idx)\n",
        "\n",
        "# Visualize a random example from each dataset\n",
        "\n",
        "figure = plt.figure(figsize=(8, 8))\n",
        "train_sample = train_ds[train_idx]\n",
        "label = train_sample[\"label\"].detach().cpu().numpy()[0].transpose(1, 0)\n",
        "ax = figure.add_subplot(3, 1, 1)\n",
        "imagesc(ax, label, title=\"Training input\", show_colorbar=False)\n",
        "\n",
        "val_sample = val_ds[val_idx]\n",
        "label = val_sample[\"label\"].detach().cpu().numpy()[0].transpose(1, 0)\n",
        "ax = figure.add_subplot(3, 1, 2)\n",
        "imagesc(ax, label, title=\"Validation input\", show_colorbar=False)\n",
        "\n",
        "test_sample = test_ds[test_idx]\n",
        "label = test_sample[\"label\"].detach().cpu().numpy()[0].transpose(1, 0)\n",
        "ax = figure.add_subplot(3, 1, 3)\n",
        "imagesc(ax, label, title=\"Test input\", show_colorbar=False)\n",
        "figure.tight_layout()\n",
        "plt.show()"
      ],
      "metadata": {
        "colab": {
          "base_uri": "https://localhost:8080/",
          "height": 862
        },
        "id": "XstAaTpEkFPc",
        "outputId": "c99891f8-128d-4085-afb8-277fa51aed86"
      },
      "execution_count": 10,
      "outputs": [
        {
          "output_type": "stream",
          "name": "stdout",
          "text": [
            "train_idx:  1194\n",
            "val_idx:  61\n",
            "test_idx:  95\n"
          ]
        },
        {
          "output_type": "display_data",
          "data": {
            "text/plain": [
              "<Figure size 800x800 with 3 Axes>"
            ],
            "image/png": "[encoded data removed]"
          },
          "metadata": {}
        }
      ]
    },
    {
      "cell_type": "code",
      "source": [
        "np.unique(label)"
      ],
      "metadata": {
        "colab": {
          "base_uri": "https://localhost:8080/"
        },
        "id": "71SWmrGjdxg_",
        "outputId": "7b917b01-bf29-4047-fc43-f81896e362ae"
      },
      "execution_count": 11,
      "outputs": [
        {
          "output_type": "execute_result",
          "data": {
            "text/plain": [
              "array([0., 1., 2., 3.], dtype=float32)"
            ]
          },
          "metadata": {},
          "execution_count": 11
        }
      ]
    },
    {
      "cell_type": "markdown",
      "metadata": {
        "id": "mgDUhaBLYaJp"
      },
      "source": [
        "# III. Train <a class=\"anchor\" id=\"train\"></a>\n"
      ]
    },
    {
      "cell_type": "markdown",
      "metadata": {
        "id": "iVg_ZU9MYaJq"
      },
      "source": [
        "### Definition of Convolutional Auto-encoder architecture"
      ]
    },
    {
      "cell_type": "code",
      "execution_count": 12,
      "metadata": {
        "id": "ETUz6mElYaJq"
      },
      "outputs": [],
      "source": [
        "import torch\n",
        "import torch.nn as nn\n",
        "class DoubleConv(nn.Module):\n",
        "\n",
        "    def __init__(self, in_channels, out_channels):\n",
        "        super().__init__()\n",
        "        self.double_conv = nn.Sequential(\n",
        "            nn.Conv2d(in_channels, out_channels, kernel_size=3, padding=1),\n",
        "            nn.BatchNorm2d(out_channels),\n",
        "            nn.ReLU(inplace=True),\n",
        "            nn.Conv2d(out_channels, out_channels, kernel_size=3, padding=1),\n",
        "            nn.BatchNorm2d(out_channels),\n",
        "            nn.ReLU(inplace=True)\n",
        "        )\n",
        "\n",
        "    def forward(self, x):\n",
        "        return self.double_conv(x)\n",
        "\n",
        "class Down(nn.Module):\n",
        "\n",
        "    def __init__(self, in_channels, out_channels):\n",
        "        super().__init__()\n",
        "        self.maxpool_conv = nn.Sequential(\n",
        "            nn.MaxPool2d(2),\n",
        "            DoubleConv(in_channels, out_channels),\n",
        "            #nn.Dropout2d(p=0.2)\n",
        "        )\n",
        "\n",
        "    def forward(self, x):\n",
        "        return self.maxpool_conv(x)\n",
        "\n",
        "class Up(nn.Module):\n",
        "\n",
        "    def __init__(self, in_channels, out_channels, bilinear=True):\n",
        "        super().__init__()\n",
        "\n",
        "        # if bilinear, use the normal convolutions to modify the number of channels\n",
        "        if bilinear:\n",
        "            self.up = nn.Sequential(\n",
        "                nn.Upsample(scale_factor=2, mode='bilinear', align_corners=True),\n",
        "                DoubleConv(in_channels, out_channels),\n",
        "                #nn.Dropout2d(p=0.2)\n",
        "            )\n",
        "        else:\n",
        "            self.up = nn.Sequential(\n",
        "                nn.ConvTranspose2d(in_channels, out_channels, kernel_size=2, stride=2),\n",
        "                nn.BatchNorm2d(out_channels),\n",
        "                nn.ReLU(inplace=True),\n",
        "                nn.Conv2d(out_channels, out_channels, kernel_size=3, padding=1),\n",
        "                nn.BatchNorm2d(out_channels),\n",
        "                nn.ReLU(inplace=True),\n",
        "                #nn.Dropout2d(p=0.2)\n",
        "            )\n",
        "\n",
        "    def forward(self, x):\n",
        "        return self.up(x)\n",
        "\n",
        "class OutConv(nn.Module):\n",
        "    def __init__(self, in_channels, out_channels):\n",
        "        super(OutConv, self).__init__()\n",
        "        self.conv = nn.Conv2d(in_channels, out_channels, kernel_size=1)\n",
        "\n",
        "    def forward(self, x):\n",
        "        return self.conv(x)\n",
        "\n",
        "class AE_Conv(nn.Module):\n",
        "    def __init__(self, in_channels, out_channels, init_channel, bilinear=True):\n",
        "        super(AE_Conv, self).__init__()\n",
        "        self.in_channels = in_channels\n",
        "        self.out_channels = out_channels\n",
        "        self.init_channel = init_channel\n",
        "        self.bilinear = bilinear\n",
        "\n",
        "        self.inc = DoubleConv(in_channels, init_channel)\n",
        "        self.down1 = Down(init_channel, init_channel*2)\n",
        "        self.down2 = Down(init_channel*2, init_channel*4)\n",
        "        self.down3 = Down(init_channel*4, init_channel*8)\n",
        "        #self.down4 = Down(init_channel*8, init_channel*16)\n",
        "        #self.up1 = Up(init_channel*16, init_channel*8, bilinear)\n",
        "        self.up2 = Up(init_channel*8, init_channel*4, bilinear)\n",
        "        self.up3 = Up(init_channel*4, init_channel*2, bilinear)\n",
        "        self.up4 = Up(init_channel*2, init_channel, bilinear)\n",
        "        self.outc = OutConv(init_channel, out_channels)\n",
        "        self.relu = nn.ReLU()\n",
        "\n",
        "        self._initialize_weights()\n",
        "\n",
        "    def forward(self, x):\n",
        "        x = self.inc(x)\n",
        "        x = self.down1(x)\n",
        "        x = self.down2(x)\n",
        "        x = self.down3(x)\n",
        "        #x = self.down4(x)\n",
        "        #x = self.up1(x)\n",
        "        x = self.up2(x)\n",
        "        x = self.up3(x)\n",
        "        x = self.up4(x)\n",
        "        x = self.outc(x)\n",
        "        #x = self.relu(x)\n",
        "        return x\n",
        "\n",
        "    def _initialize_weights(self):\n",
        "       for m in self.modules():\n",
        "           if isinstance(m, nn.Conv2d):\n",
        "               nn.init.kaiming_normal_(m.weight)\n",
        "               if m.bias is not None:\n",
        "                   nn.init.zeros_(m.bias)\n",
        "           elif isinstance(m, nn.BatchNorm2d):\n",
        "               nn.init.constant_(m.weight, 1)\n",
        "               nn.init.constant_(m.bias, 0)"
      ]
    },
    {
      "cell_type": "code",
      "execution_count": 13,
      "metadata": {
        "id": "CRODcoPkYaJq",
        "outputId": "58cfc7f5-2e96-4bc0-9766-50e95d2b16ed",
        "colab": {
          "base_uri": "https://localhost:8080/"
        }
      },
      "outputs": [
        {
          "output_type": "execute_result",
          "data": {
            "text/plain": [
              "=================================================================================================================================================\n",
              "Layer (type:depth-idx)                        Input Shape               Output Shape              Kernel Shape              Param #\n",
              "=================================================================================================================================================\n",
              "AE_Conv                                       [1, 1, 64, 64]            [1, 1, 64, 64]            --                        --\n",
              "├─DoubleConv: 1-1                             [1, 1, 64, 64]            [1, 32, 64, 64]           --                        --\n",
              "│    └─Sequential: 2-1                        [1, 1, 64, 64]            [1, 32, 64, 64]           --                        --\n",
              "│    │    └─Conv2d: 3-1                       [1, 1, 64, 64]            [1, 32, 64, 64]           [3, 3]                    320\n",
              "│    │    └─BatchNorm2d: 3-2                  [1, 32, 64, 64]           [1, 32, 64, 64]           --                        64\n",
              "│    │    └─ReLU: 3-3                         [1, 32, 64, 64]           [1, 32, 64, 64]           --                        --\n",
              "│    │    └─Conv2d: 3-4                       [1, 32, 64, 64]           [1, 32, 64, 64]           [3, 3]                    9,248\n",
              "│    │    └─BatchNorm2d: 3-5                  [1, 32, 64, 64]           [1, 32, 64, 64]           --                        64\n",
              "│    │    └─ReLU: 3-6                         [1, 32, 64, 64]           [1, 32, 64, 64]           --                        --\n",
              "├─Down: 1-2                                   [1, 32, 64, 64]           [1, 64, 32, 32]           --                        --\n",
              "│    └─Sequential: 2-2                        [1, 32, 64, 64]           [1, 64, 32, 32]           --                        --\n",
              "│    │    └─MaxPool2d: 3-7                    [1, 32, 64, 64]           [1, 32, 32, 32]           2                         --\n",
              "│    │    └─DoubleConv: 3-8                   [1, 32, 32, 32]           [1, 64, 32, 32]           --                        55,680\n",
              "├─Down: 1-3                                   [1, 64, 32, 32]           [1, 128, 16, 16]          --                        --\n",
              "│    └─Sequential: 2-3                        [1, 64, 32, 32]           [1, 128, 16, 16]          --                        --\n",
              "│    │    └─MaxPool2d: 3-9                    [1, 64, 32, 32]           [1, 64, 16, 16]           2                         --\n",
              "│    │    └─DoubleConv: 3-10                  [1, 64, 16, 16]           [1, 128, 16, 16]          --                        221,952\n",
              "├─Down: 1-4                                   [1, 128, 16, 16]          [1, 256, 8, 8]            --                        --\n",
              "│    └─Sequential: 2-4                        [1, 128, 16, 16]          [1, 256, 8, 8]            --                        --\n",
              "│    │    └─MaxPool2d: 3-11                   [1, 128, 16, 16]          [1, 128, 8, 8]            2                         --\n",
              "│    │    └─DoubleConv: 3-12                  [1, 128, 8, 8]            [1, 256, 8, 8]            --                        886,272\n",
              "├─Up: 1-5                                     [1, 256, 8, 8]            [1, 128, 16, 16]          --                        --\n",
              "│    └─Sequential: 2-5                        [1, 256, 8, 8]            [1, 128, 16, 16]          --                        --\n",
              "│    │    └─Upsample: 3-13                    [1, 256, 8, 8]            [1, 256, 16, 16]          --                        --\n",
              "│    │    └─DoubleConv: 3-14                  [1, 256, 16, 16]          [1, 128, 16, 16]          --                        443,136\n",
              "├─Up: 1-6                                     [1, 128, 16, 16]          [1, 64, 32, 32]           --                        --\n",
              "│    └─Sequential: 2-6                        [1, 128, 16, 16]          [1, 64, 32, 32]           --                        --\n",
              "│    │    └─Upsample: 3-15                    [1, 128, 16, 16]          [1, 128, 32, 32]          --                        --\n",
              "│    │    └─DoubleConv: 3-16                  [1, 128, 32, 32]          [1, 64, 32, 32]           --                        110,976\n",
              "├─Up: 1-7                                     [1, 64, 32, 32]           [1, 32, 64, 64]           --                        --\n",
              "│    └─Sequential: 2-7                        [1, 64, 32, 32]           [1, 32, 64, 64]           --                        --\n",
              "│    │    └─Upsample: 3-17                    [1, 64, 32, 32]           [1, 64, 64, 64]           --                        --\n",
              "│    │    └─DoubleConv: 3-18                  [1, 64, 64, 64]           [1, 32, 64, 64]           --                        27,840\n",
              "├─OutConv: 1-8                                [1, 32, 64, 64]           [1, 1, 64, 64]            --                        --\n",
              "│    └─Conv2d: 2-8                            [1, 32, 64, 64]           [1, 1, 64, 64]            [1, 1]                    33\n",
              "=================================================================================================================================================\n",
              "Total params: 1,755,585\n",
              "Trainable params: 1,755,585\n",
              "Non-trainable params: 0\n",
              "Total mult-adds (M): 549.62\n",
              "=================================================================================================================================================\n",
              "Input size (MB): 0.02\n",
              "Forward/backward pass size (MB): 15.24\n",
              "Params size (MB): 7.02\n",
              "Estimated Total Size (MB): 22.28\n",
              "================================================================================================================================================="
            ]
          },
          "metadata": {},
          "execution_count": 13
        }
      ],
      "source": [
        "from torchinfo import summary\n",
        "import torch\n",
        "import torch.nn.functional as F\n",
        "\n",
        "input_channel = 1  # This is the number of input channels in the image\n",
        "input_shape = (input_channel, 64, 64)  # This is the shape of the input image to the network\n",
        "output_channel = 1  # This is the number of output channel\n",
        "output_shape = (output_channel, 64, 64)  # This is the shape of the output image\n",
        "init_channels = 32  # This is the output channel's number of input convolution\n",
        "\n",
        "ae_conv = AE_Conv(input_channel, output_channel, init_channels)\n",
        "\n",
        "# Print the summary of the network\n",
        "summary_kwargs = dict(col_names=[\"input_size\", \"output_size\", \"kernel_size\", \"num_params\"], depth=3, verbose=0)\n",
        "summary(ae_conv, (1, *input_shape), device=\"cpu\", **summary_kwargs)"
      ]
    },
    {
      "cell_type": "code",
      "source": [
        "import numpy as np\n",
        "import torch\n",
        "\n",
        "# Test the pixel value range of auto-encoder input and output\n",
        "random_image = np.random.rand(64, 64)\n",
        "tensor_image = torch.FloatTensor(random_image)\n",
        "tensor_image = tensor_image.unsqueeze(0).unsqueeze(0)\n",
        "with torch.no_grad():\n",
        "    ae_output = ae_conv(tensor_image)\n",
        "\n",
        "print(\"Random Image:\")\n",
        "print(random_image)\n",
        "\n",
        "print(\"\\nAE Output:\")\n",
        "print(ae_output.squeeze().numpy())"
      ],
      "metadata": {
        "colab": {
          "base_uri": "https://localhost:8080/"
        },
        "id": "yYhPRBb0sAd7",
        "outputId": "c21bdfe0-3959-4aef-c152-00a16a996d8a"
      },
      "execution_count": 14,
      "outputs": [
        {
          "output_type": "stream",
          "name": "stdout",
          "text": [
            "Random Image:\n",
            "[[0.25085559 0.93218317 0.67484452 ... 0.09725159 0.88253007 0.5028357 ]\n",
            " [0.49461222 0.6503119  0.11350422 ... 0.39310893 0.16158472 0.02309173]\n",
            " [0.65187333 0.89391617 0.65016376 ... 0.30779799 0.87441998 0.12097994]\n",
            " ...\n",
            " [0.04067529 0.62743908 0.92635967 ... 0.76920788 0.40768659 0.24474011]\n",
            " [0.18966926 0.19223481 0.03050016 ... 0.04338232 0.55101383 0.47873197]\n",
            " [0.93031587 0.84024883 0.0373288  ... 0.46701027 0.71330942 0.87795028]]\n",
            "\n",
            "AE Output:\n",
            "[[ 0.826056    1.3484263   1.3140333  ...  0.9660274   1.137573\n",
            "   0.660742  ]\n",
            " [ 0.09598786 -0.08120428 -0.3613253  ... -0.05747625  0.64045244\n",
            "   0.52984834]\n",
            " [ 0.05003726  0.05900728  0.17511469 ...  0.03116437  0.49161464\n",
            "   0.47395438]\n",
            " ...\n",
            " [ 0.26395392  0.8069755   0.45956907 ... -0.22245227  0.27071387\n",
            "   0.7422659 ]\n",
            " [-0.06834153  1.0337746   0.71863484 ... -0.19260791  0.6941981\n",
            "   0.7326421 ]\n",
            " [ 0.7116528   1.1123106   0.8036326  ...  0.8845177   1.2483878\n",
            "   1.429744  ]]\n"
          ]
        }
      ]
    },
    {
      "cell_type": "markdown",
      "metadata": {
        "id": "mlph2ox1YaJq"
      },
      "source": [
        "### Definition of optimizer and loss function\n",
        "We will use the Adam optimizer. The loss function is the MSE loss."
      ]
    },
    {
      "cell_type": "code",
      "execution_count": 15,
      "metadata": {
        "id": "tWdzmufoYaJr"
      },
      "outputs": [],
      "source": [
        "from functools import partial\n",
        "import torch\n",
        "from torch.nn import MSELoss\n",
        "\n",
        "loss_function = MSELoss()\n",
        "\n",
        "optimizer = torch.optim.Adam(ae_conv.parameters(),lr=0.005,betas=(0.9,0.999),eps=1e-04,weight_decay=0.0005,amsgrad=False)\n",
        "scheduler = torch.optim.lr_scheduler.LambdaLR(optimizer, lr_lambda=lambda epoch: 0.01 if epoch < 10 else (0.005 if 10 <= epoch < 100 else 0.001))"
      ]
    },
    {
      "cell_type": "markdown",
      "metadata": {
        "id": "uWJr42dmYaJr"
      },
      "source": [
        "### Definition of training function"
      ]
    },
    {
      "cell_type": "code",
      "execution_count": 16,
      "metadata": {
        "id": "NMoQPbd-YaJr"
      },
      "outputs": [],
      "source": [
        "import os\n",
        "import time\n",
        "from typing import Union\n",
        "\n",
        "import torch.nn.functional as F\n",
        "from monai.data import DataLoader\n",
        "from torch import nn\n",
        "from torch.utils.data import Dataset\n",
        "from tqdm.auto import tqdm\n",
        "\n",
        "from src.utils.tensor_utils import sum_tensor\n",
        "\n",
        "from skimage.metrics import structural_similarity as ssim\n",
        "\n",
        "def train_process(\n",
        "    train_ds: Dataset,\n",
        "    val_ds: Dataset,\n",
        "    num_workers: int,\n",
        "    model: nn.Module,\n",
        "    loss_function: nn.Module,\n",
        "    optimizer: torch.optim.Optimizer,\n",
        "    sheduler: torch.optim.lr_scheduler._LRScheduler,\n",
        "    batch_size: int = 2,\n",
        "    max_epochs: int = 30,\n",
        "    log_dir: Union[Path, str] = Path(\"/content/drive/MyDrive/project_ae/logs/ae\"),\n",
        "    val_interval=1,\n",
        ") -> tuple[float, list[float], list[float], list[int], list[float]]:\n",
        "    \"\"\"Trains a neural network model for segmentation on the provided datasets using the specified parameters.\n",
        "\n",
        "    Args:\n",
        "        train_ds: Training dataset.\n",
        "        val_ds: Validation dataset.\n",
        "        num_workers: Number of workers to use for data loading.\n",
        "        model: Neural network model.\n",
        "        loss_function: Loss function.\n",
        "        optimizer: Optimizer.\n",
        "        num_classes: Number of classes to segment.\n",
        "        batch_size: Number of batch size. Defaults to 2.\n",
        "        max_epochs: Maximum training epochs. Defaults to 30.\n",
        "        log_dir: Path to the logging directory. Defaults to Path(\"../logs/camus_segmentation\").\n",
        "        val_interval: Epoch interval to perform evaluation steps. Defaults to 1.\n",
        "\n",
        "    Returns:\n",
        "        - Total time taken for training.\n",
        "        - List containing training loss values for each epoch.\n",
        "        - List containing validation loss values for each evaluation epoch.\n",
        "        - List containing epochs where validation is performed.\n",
        "        - List containing metric values for each evaluation epoch.\n",
        "    \"\"\"\n",
        "    # Create train and validation dataloaders\n",
        "    train_dataloader = DataLoader(\n",
        "        train_ds,\n",
        "        batch_size=batch_size,\n",
        "        shuffle=True,\n",
        "        num_workers=num_workers,\n",
        "        pin_memory=torch.cuda.is_available(),\n",
        "    )\n",
        "    val_dataloader = DataLoader(\n",
        "        val_ds,\n",
        "        batch_size=batch_size,\n",
        "        num_workers=num_workers,\n",
        "        pin_memory=torch.cuda.is_available(),\n",
        "    )\n",
        "\n",
        "    # Determine the device to run the model on\n",
        "    if torch.cuda.is_available():\n",
        "        device = torch.device(\"cuda\")\n",
        "        print(f\"GPU detected, training on: {device}!\\n\")\n",
        "    else:\n",
        "        device = torch.device(\"cpu\")\n",
        "        print(\"GPU not detected, training on CPU!\\n\")\n",
        "\n",
        "    # Move the model to the device\n",
        "    model = model.to(device)\n",
        "\n",
        "    # Convert log directory to Path object if needed\n",
        "    if not isinstance(log_dir, Path):\n",
        "        log_dir = Path(log_dir)\n",
        "    # Create the log directory if it does not exist\n",
        "    log_dir.mkdir(parents=True, exist_ok=True)\n",
        "\n",
        "    # Define some variables to keep track of the best metric values, epoch time and losses\n",
        "    best_metric = -1\n",
        "    best_metric_epoch = -1\n",
        "    epoch_train_loss_values = []\n",
        "    epoch_val_loss_values = []\n",
        "    metric_values = []\n",
        "    epoch_val = []\n",
        "    total_start = time.time()\n",
        "\n",
        "    accuracy_list = []\n",
        "    ssim_list = []\n",
        "\n",
        "    fit_pbar = tqdm(range(max_epochs), desc=\"Training\", unit=\"epoch\", position=0, leave=True)\n",
        "    pbar_metrics = {\"train/loss\": None, \"val/loss\": None, \"val/accuracy\": None, \"val/ssim\": None}\n",
        "\n",
        "    for epoch in fit_pbar:\n",
        "        model.train()\n",
        "        epoch_loss = 0\n",
        "        epoch_val_loss = 0\n",
        "        epoch_ssim = 0\n",
        "        epoch_acc = 0\n",
        "        step = 0\n",
        "        for batch_data in train_dataloader:\n",
        "            step += 1\n",
        "            inputs = batch_data[\"label\"].to(device)\n",
        "\n",
        "            optimizer.zero_grad()\n",
        "            outputs = model(inputs)\n",
        "            loss = loss_function(outputs, inputs)\n",
        "            loss.backward()\n",
        "            optimizer.step()\n",
        "            epoch_loss += loss.item()\n",
        "            pbar_metrics[\"loss\"] = loss.item()\n",
        "            pbar_metrics[\"train_batch\"] = f\"{step}/{len(train_dataloader)}\"\n",
        "            fit_pbar.set_postfix(pbar_metrics)\n",
        "\n",
        "        epoch_loss /= step\n",
        "        epoch_train_loss_values.append(epoch_loss)\n",
        "        pbar_metrics[\"train/loss\"] = epoch_loss\n",
        "        pbar_metrics.pop(\"loss\")\n",
        "        pbar_metrics.pop(\"train_batch\")\n",
        "        fit_pbar.set_postfix(pbar_metrics)\n",
        "        if (epoch + 1) % val_interval == 0:\n",
        "            step = 0\n",
        "            acc_per_epoch = 0\n",
        "            ssim_per_epoch = 0\n",
        "            model.eval()\n",
        "            with torch.no_grad():\n",
        "                for val_data in val_dataloader:\n",
        "                    step += 1\n",
        "                    val_inputs = val_data[\"label\"].to(device)\n",
        "\n",
        "                    val_outputs = model(val_inputs)\n",
        "                    val_loss = loss_function(val_outputs, val_inputs)\n",
        "                    epoch_val_loss += val_loss.item()\n",
        "                    pbar_metrics[\"loss\"] = val_loss.item()\n",
        "                    pbar_metrics[\"val_batch\"] = f\"{step}/{len(val_dataloader)}\"\n",
        "                    fit_pbar.set_postfix(pbar_metrics)\n",
        "\n",
        "                    if val_inputs.size() != val_outputs.size():\n",
        "                      raise ValueError(\"Error!\")\n",
        "\n",
        "                    # accuracy calculation for 1 batch\n",
        "                    round_val_outputs = torch.round(val_outputs)\n",
        "                    correct_pixel = torch.sum(torch.eq(val_inputs, round_val_outputs)).item()\n",
        "                    total_pixel = val_inputs.numel()\n",
        "                    acc = (correct_pixel / total_pixel) * 100\n",
        "                    acc_per_epoch += acc\n",
        "\n",
        "                    # ssim calculation for 1 batch\n",
        "                    ssim_per_sample = 0\n",
        "                    out_np = val_outputs.cpu().detach().numpy()\n",
        "                    in_np = val_inputs.cpu().detach().numpy()\n",
        "                    for i in range(out_np.shape[0]):\n",
        "                        ssim_per_sample += ssim(out_np[i, 0], in_np[i, 0])\n",
        "                    ssim_per_epoch += ssim_per_sample / out_np.shape[0]\n",
        "\n",
        "\n",
        "                epoch_val_loss /= step\n",
        "                epoch_val_loss_values.append(epoch_val_loss)\n",
        "                epoch_val.append(epoch + 1)\n",
        "                pbar_metrics.pop(\"loss\")\n",
        "                pbar_metrics.pop(\"val_batch\")\n",
        "                pbar_metrics[\"val/loss\"] = float(epoch_val_loss)\n",
        "\n",
        "                epoch_acc = acc_per_epoch / step\n",
        "                pbar_metrics[\"val/accuracy\"] = epoch_acc\n",
        "                fit_pbar.set_postfix(pbar_metrics)\n",
        "                accuracy_list.append(epoch_acc)\n",
        "\n",
        "                epoch_ssim = ssim_per_epoch / step\n",
        "                pbar_metrics[\"val/ssim\"] = epoch_ssim\n",
        "                fit_pbar.set_postfix(pbar_metrics)\n",
        "                ssim_list.append(epoch_ssim)\n",
        "\n",
        "                #val_metric = acc_per_epoch\n",
        "                val_metric = epoch_ssim\n",
        "                metric_values.append(val_metric)\n",
        "\n",
        "\n",
        "                if val_metric > best_metric:\n",
        "                    best_metric = val_metric\n",
        "                    best_metric_epoch = epoch + 1\n",
        "                    # Save best metric model checkpoint\n",
        "                    torch.save(\n",
        "                        {\n",
        "                            \"max_epochs\": max_epochs,\n",
        "                            \"current_epoch\": epoch + 1,\n",
        "                            \"best_metric_epoch\": best_metric_epoch,\n",
        "                            \"train_loss\": epoch_train_loss_values,\n",
        "                            \"val_loss\": epoch_val_loss_values,\n",
        "                            \"epoch_val\": epoch_val,\n",
        "                            \"metric_values\": metric_values,\n",
        "                            \"model_state_dict\": model.state_dict(),\n",
        "                            \"optimizer_state_dict\": optimizer.state_dict(),\n",
        "                        },\n",
        "                        str(log_dir / \"best_metric_model_checkpoint.pth\"),\n",
        "                    )\n",
        "\n",
        "                    # Save the best whole model\n",
        "                    torch.save(model, str(log_dir / \"best_metric_model.pth\"))\n",
        "\n",
        "        scheduler.step()\n",
        "\n",
        "        # Save last model checkpoint\n",
        "        torch.save(\n",
        "            {\n",
        "                \"max_epochs\": max_epochs,\n",
        "                \"current_epoch\": epoch + 1,\n",
        "                \"best_metric_epoch\": best_metric_epoch,\n",
        "                \"train_loss\": epoch_train_loss_values,\n",
        "                \"val_loss\": epoch_val_loss_values,\n",
        "                \"epoch_val\": epoch_val,\n",
        "                \"metric_values\": metric_values,\n",
        "                \"model_state_dict\": model.state_dict(),\n",
        "                \"optimizer_state_dict\": optimizer.state_dict(),\n",
        "            },\n",
        "            str(log_dir / \"last_model_checkpoint.pth\"),\n",
        "        )\n",
        "\n",
        "        # Save the whole model\n",
        "        torch.save(model, str(log_dir / \"last_model.pth\"))\n",
        "\n",
        "    print(\n",
        "        f\"train completed, best_metric: {best_metric:.4f}\"\n",
        "        f\" at epoch: {best_metric_epoch}\"\n",
        "        f\" total time: {(time.time() - total_start):.4f}\"\n",
        "    )\n",
        "    return (\n",
        "        time.time() - total_start,\n",
        "        epoch_train_loss_values,\n",
        "        epoch_val_loss_values,\n",
        "        epoch_val,\n",
        "        metric_values,\n",
        "        accuracy_list,\n",
        "        ssim_list\n",
        "    )"
      ]
    },
    {
      "cell_type": "markdown",
      "metadata": {
        "id": "znI-spjnYaJs"
      },
      "source": [
        "### Definition of training hyperparameters\n",
        "In this section, we will define the hyperparameters for training, such as the number of epochs, the learning rate, the batch size, etc."
      ]
    },
    {
      "cell_type": "code",
      "execution_count": 17,
      "metadata": {
        "colab": {
          "referenced_widgets": [
            "6098a20f0543444ca02e9aed327bbee4",
            "111422538af248b1ad127a03ffe60bf8",
            "fe9a71c20165410a84365c52b2dd3d5e",
            "f3d79e837e134eac92028a88fef4d20c",
            "f242a23aa919407280d5db23013b0d5a",
            "f1f7daeceb314d62896fab92cb6e1a13",
            "a199011c1c074d62b9f60293bffbc6de",
            "ad9125c3e67e4f7dafb23163e6dbd5dc",
            "51670ac1dd664500b97ccba80e3b6a54",
            "bef023e4a69441bd954992318a85b565",
            "051ffaec6d0f44f1b511a59ac535ff9d"
          ],
          "base_uri": "https://localhost:8080/",
          "height": 104
        },
        "id": "wQVlLLiSYaJs",
        "outputId": "e74b526a-5735-46ae-d286-79636ad59080"
      },
      "outputs": [
        {
          "output_type": "stream",
          "name": "stdout",
          "text": [
            "GPU detected, training on: cuda!\n",
            "\n"
          ]
        },
        {
          "output_type": "display_data",
          "data": {
            "text/plain": [
              "Training:   0%|          | 0/200 [00:00<?, ?epoch/s]"
            ],
            "application/vnd.jupyter.widget-view+json": {
              "version_major": 2,
              "version_minor": 0,
              "model_id": "6098a20f0543444ca02e9aed327bbee4"
            }
          },
          "metadata": {}
        },
        {
          "output_type": "stream",
          "name": "stdout",
          "text": [
            "train completed, best_metric: 0.9160 at epoch: 187 total time: 4002.0319\n"
          ]
        }
      ],
      "source": [
        "batch_size = 4  # Number of batch size\n",
        "max_epochs = 200  # Number of epochs to train the model\n",
        "num_workers = os.cpu_count() - 1  # Number of workers to use for data loading\n",
        "\n",
        "# Train the model\n",
        "(\n",
        "    total_time,\n",
        "    epoch_train_loss_values,\n",
        "    epoch_val_loss_values,\n",
        "    epoch_val,\n",
        "    metric_values,\n",
        "    accuracy_list,\n",
        "    ssim_list\n",
        ") = train_process(\n",
        "    train_ds=train_ds,\n",
        "    val_ds=val_ds,\n",
        "    num_workers=num_workers,\n",
        "    model=ae_conv,\n",
        "    loss_function=loss_function,\n",
        "    optimizer=optimizer,\n",
        "    sheduler=scheduler,\n",
        "    batch_size=batch_size,\n",
        "    max_epochs=max_epochs,\n",
        "    log_dir=\"/content/drive/MyDrive/project_ae/logs/ae\",\n",
        ")"
      ]
    },
    {
      "cell_type": "markdown",
      "metadata": {
        "id": "inGqLqLEYaJs"
      },
      "source": [
        "# IV. Visualize learning curves and predictions <a class=\"anchor\" id=\"visualize\"></a>"
      ]
    },
    {
      "cell_type": "markdown",
      "metadata": {
        "id": "Xh5fOv6sYaJs"
      },
      "source": [
        "### Plot training losses, validation losses and validation SSIM over epochs"
      ]
    },
    {
      "cell_type": "code",
      "execution_count": 18,
      "metadata": {
        "id": "Fa-cF2UHYaJt",
        "outputId": "3fed8829-e863-48ab-84c9-cb7d37b964a3",
        "colab": {
          "base_uri": "https://localhost:8080/",
          "height": 728
        }
      },
      "outputs": [
        {
          "output_type": "execute_result",
          "data": {
            "text/plain": [
              "[<matplotlib.lines.Line2D at 0x7c920458e500>]"
            ]
          },
          "metadata": {},
          "execution_count": 18
        },
        {
          "output_type": "display_data",
          "data": {
            "text/plain": [
              "<Figure size 1600x800 with 3 Axes>"
            ],
            "image/png": "[encoded data removed]"
          },
          "metadata": {}
        }
      ],
      "source": [
        "from matplotlib.ticker import MaxNLocator\n",
        "\n",
        "trains_epoch = list(range(1, max_epochs + 1, 1))\n",
        "vals_epochs = epoch_val\n",
        "\n",
        "plt.figure(\"train\", (16, 8))\n",
        "ax = plt.subplot(1, 3, 1)\n",
        "plt.title(\"Epoch Average Loss\")\n",
        "plt.xlabel(\"Epoch\")\n",
        "ax.xaxis.set_major_locator(MaxNLocator(integer=True))  # Set integer ticks for x-axis\n",
        "plt.plot(trains_epoch, epoch_train_loss_values, color=\"red\", label=\"Train\")\n",
        "plt.plot(vals_epochs, epoch_val_loss_values, color=\"blue\", label=\"Val\")\n",
        "plt.legend(loc=\"upper right\")\n",
        "\n",
        "ax = plt.subplot(1, 3, 2)\n",
        "plt.title(\"Accuracy\")\n",
        "plt.xlabel(\"Epoch\")\n",
        "ax.xaxis.set_major_locator(MaxNLocator(integer=True))  # Set integer ticks for x-axis\n",
        "plt.plot(vals_epochs, accuracy_list, color=\"green\")\n",
        "\n",
        "ax = plt.subplot(1, 3, 3)\n",
        "plt.title(\"SSIM\")\n",
        "plt.xlabel(\"Epoch\")\n",
        "ax.xaxis.set_major_locator(MaxNLocator(integer=True))  # Set integer ticks for x-axis\n",
        "plt.plot(vals_epochs, ssim_list, color=\"black\")"
      ]
    },
    {
      "cell_type": "markdown",
      "metadata": {
        "id": "k7UfcpOGYaJu"
      },
      "source": [
        "### Prediction on the test set\n",
        "First, we create the dataloader from the test dataset we defined at the beginning."
      ]
    },
    {
      "cell_type": "code",
      "execution_count": 19,
      "metadata": {
        "id": "pVK4nedDYaJu"
      },
      "outputs": [],
      "source": [
        "import os\n",
        "# Create the test dataloader\n",
        "num_workers = os.cpu_count() - 1\n",
        "\n",
        "test_dataloader = DataLoader(\n",
        "    test_ds,\n",
        "    batch_size=1,\n",
        "    num_workers=num_workers,\n",
        "    pin_memory=torch.cuda.is_available(),\n",
        ")\n",
        "\n",
        "# Create an iterator to iterate over the test dataloader\n",
        "test_dataloader_iter = iter(test_dataloader)"
      ]
    },
    {
      "cell_type": "markdown",
      "metadata": {
        "id": "-qBpUPTDYaJu"
      },
      "source": [
        "Then, we perform the inference on a sample from the test dataset and plot the prediction."
      ]
    },
    {
      "cell_type": "code",
      "execution_count": 31,
      "metadata": {
        "tags": [],
        "id": "P71W6vnGYaJu",
        "outputId": "452d5dad-007c-4a72-f7a5-61b38f6eb10a",
        "colab": {
          "base_uri": "https://localhost:8080/",
          "height": 306
        }
      },
      "outputs": [
        {
          "output_type": "display_data",
          "data": {
            "text/plain": [
              "<Figure size 800x800 with 3 Axes>"
            ],
            "image/png": "[encoded data removed]"
          },
          "metadata": {}
        }
      ],
      "source": [
        "import torch\n",
        "import torch\n",
        "from torchvision import transforms\n",
        "from PIL import Image\n",
        "import matplotlib.pyplot as plt\n",
        "\n",
        "if torch.cuda.is_available():\n",
        "    device = torch.device(\"cuda\")\n",
        "else:\n",
        "    device = torch.device(\"cpu\")\n",
        "\n",
        "batch_data = next(test_dataloader_iter)\n",
        "model = torch.load('/content/drive/MyDrive/project_ae/logs/ae/best_metric_model.pth', map_location=torch.device('cpu'))\n",
        "#model = torch.load('/content/drive/MyDrive/project_ae/logs/ae/best_metric_model.pth')\n",
        "\n",
        "with torch.no_grad():\n",
        "    model.eval()\n",
        "    model.to(device)\n",
        "    label = batch_data[\"label\"].to(device)\n",
        "    output = model(label)\n",
        "    output_rounded = np.round(output)\n",
        "\n",
        "    label = label.squeeze().detach().cpu().numpy().transpose(1, 0)\n",
        "    output = output.squeeze().detach().cpu().numpy().transpose(1, 0)\n",
        "    output_rounded = output_rounded.squeeze().transpose(1, 0)\n",
        "\n",
        "# Plot the input label, output label, rounded output label\n",
        "figure = plt.figure(figsize=(8, 8))\n",
        "ax = figure.add_subplot(1, 3, 1)\n",
        "imagesc(ax, label, title=\"Input label\", show_colorbar=False)\n",
        "ax = figure.add_subplot(1, 3, 2)\n",
        "imagesc(ax, output, title=\"Output label\", show_colorbar=False)\n",
        "ax = figure.add_subplot(1, 3, 3)\n",
        "imagesc(ax, output_rounded, title=\" Rounded output label\", show_colorbar=False)\n",
        "figure.tight_layout()\n",
        "plt.show()"
      ]
    }
  ],
  "metadata": {
    "kernelspec": {
      "display_name": "Python 3",
      "name": "python3"
    },
    "language_info": {
      "codemirror_mode": {
        "name": "ipython",
        "version": 3
      },
      "file_extension": ".py",
      "mimetype": "text/x-python",
      "name": "python",
      "nbconvert_exporter": "python",
      "pygments_lexer": "ipython3",
      "version": "3.9.12"
    },
    "colab": {
      "provenance": [],
      "gpuType": "T4"
    },
    "widgets": {
      "application/vnd.jupyter.widget-state+json": {
        "e21dead91ef24dc4a01a4ab54ff58cad": {
          "model_module": "@jupyter-widgets/controls",
          "model_name": "HBoxModel",
          "model_module_version": "1.5.0",
          "state": {
            "_dom_classes": [],
            "_model_module": "@jupyter-widgets/controls",
            "_model_module_version": "1.5.0",
            "_model_name": "HBoxModel",
            "_view_count": null,
            "_view_module": "@jupyter-widgets/controls",
            "_view_module_version": "1.5.0",
            "_view_name": "HBoxView",
            "box_style": "",
            "children": [
              "IPY_MODEL_cd19b4b3c15b42489303a5aa108019f7",
              "IPY_MODEL_7ced94dfcc7941f6bfa62c3536ea74d7",
              "IPY_MODEL_7f5250ba727d493fba0c965fbdb0bdb7"
            ],
            "layout": "IPY_MODEL_09287686b8654706b2143f0ab6c2da58"
          }
        },
        "cd19b4b3c15b42489303a5aa108019f7": {
          "model_module": "@jupyter-widgets/controls",
          "model_name": "HTMLModel",
          "model_module_version": "1.5.0",
          "state": {
            "_dom_classes": [],
            "_model_module": "@jupyter-widgets/controls",
            "_model_module_version": "1.5.0",
            "_model_name": "HTMLModel",
            "_view_count": null,
            "_view_module": "@jupyter-widgets/controls",
            "_view_module_version": "1.5.0",
            "_view_name": "HTMLView",
            "description": "",
            "description_tooltip": null,
            "layout": "IPY_MODEL_299e6875e5be4ae3b9724cd63d0a9591",
            "placeholder": "​",
            "style": "IPY_MODEL_dfa83c0216b7469783516b597c24adfe",
            "value": "Downloading and extracting data: 100%"
          }
        },
        "7ced94dfcc7941f6bfa62c3536ea74d7": {
          "model_module": "@jupyter-widgets/controls",
          "model_name": "FloatProgressModel",
          "model_module_version": "1.5.0",
          "state": {
            "_dom_classes": [],
            "_model_module": "@jupyter-widgets/controls",
            "_model_module_version": "1.5.0",
            "_model_name": "FloatProgressModel",
            "_view_count": null,
            "_view_module": "@jupyter-widgets/controls",
            "_view_module_version": "1.5.0",
            "_view_name": "ProgressView",
            "bar_style": "success",
            "description": "",
            "description_tooltip": null,
            "layout": "IPY_MODEL_748fdace5a7b4b878e4c3ac485ec4636",
            "max": 6000,
            "min": 0,
            "orientation": "horizontal",
            "style": "IPY_MODEL_4d693d20e77148ad882f12cd151999ee",
            "value": 6000
          }
        },
        "7f5250ba727d493fba0c965fbdb0bdb7": {
          "model_module": "@jupyter-widgets/controls",
          "model_name": "HTMLModel",
          "model_module_version": "1.5.0",
          "state": {
            "_dom_classes": [],
            "_model_module": "@jupyter-widgets/controls",
            "_model_module_version": "1.5.0",
            "_model_name": "HTMLModel",
            "_view_count": null,
            "_view_module": "@jupyter-widgets/controls",
            "_view_module_version": "1.5.0",
            "_view_name": "HTMLView",
            "description": "",
            "description_tooltip": null,
            "layout": "IPY_MODEL_729b3ece8d6f4e2ea89fbb1db2235698",
            "placeholder": "​",
            "style": "IPY_MODEL_2d5e94cae24744d7948784708c348070",
            "value": " 6000/6000 [00:01&lt;00:00, 4970.26it/s]"
          }
        },
        "09287686b8654706b2143f0ab6c2da58": {
          "model_module": "@jupyter-widgets/base",
          "model_name": "LayoutModel",
          "model_module_version": "1.2.0",
          "state": {
            "_model_module": "@jupyter-widgets/base",
            "_model_module_version": "1.2.0",
            "_model_name": "LayoutModel",
            "_view_count": null,
            "_view_module": "@jupyter-widgets/base",
            "_view_module_version": "1.2.0",
            "_view_name": "LayoutView",
            "align_content": null,
            "align_items": null,
            "align_self": null,
            "border": null,
            "bottom": null,
            "display": null,
            "flex": null,
            "flex_flow": null,
            "grid_area": null,
            "grid_auto_columns": null,
            "grid_auto_flow": null,
            "grid_auto_rows": null,
            "grid_column": null,
            "grid_gap": null,
            "grid_row": null,
            "grid_template_areas": null,
            "grid_template_columns": null,
            "grid_template_rows": null,
            "height": null,
            "justify_content": null,
            "justify_items": null,
            "left": null,
            "margin": null,
            "max_height": null,
            "max_width": null,
            "min_height": null,
            "min_width": null,
            "object_fit": null,
            "object_position": null,
            "order": null,
            "overflow": null,
            "overflow_x": null,
            "overflow_y": null,
            "padding": null,
            "right": null,
            "top": null,
            "visibility": null,
            "width": null
          }
        },
        "299e6875e5be4ae3b9724cd63d0a9591": {
          "model_module": "@jupyter-widgets/base",
          "model_name": "LayoutModel",
          "model_module_version": "1.2.0",
          "state": {
            "_model_module": "@jupyter-widgets/base",
            "_model_module_version": "1.2.0",
            "_model_name": "LayoutModel",
            "_view_count": null,
            "_view_module": "@jupyter-widgets/base",
            "_view_module_version": "1.2.0",
            "_view_name": "LayoutView",
            "align_content": null,
            "align_items": null,
            "align_self": null,
            "border": null,
            "bottom": null,
            "display": null,
            "flex": null,
            "flex_flow": null,
            "grid_area": null,
            "grid_auto_columns": null,
            "grid_auto_flow": null,
            "grid_auto_rows": null,
            "grid_column": null,
            "grid_gap": null,
            "grid_row": null,
            "grid_template_areas": null,
            "grid_template_columns": null,
            "grid_template_rows": null,
            "height": null,
            "justify_content": null,
            "justify_items": null,
            "left": null,
            "margin": null,
            "max_height": null,
            "max_width": null,
            "min_height": null,
            "min_width": null,
            "object_fit": null,
            "object_position": null,
            "order": null,
            "overflow": null,
            "overflow_x": null,
            "overflow_y": null,
            "padding": null,
            "right": null,
            "top": null,
            "visibility": null,
            "width": null
          }
        },
        "dfa83c0216b7469783516b597c24adfe": {
          "model_module": "@jupyter-widgets/controls",
          "model_name": "DescriptionStyleModel",
          "model_module_version": "1.5.0",
          "state": {
            "_model_module": "@jupyter-widgets/controls",
            "_model_module_version": "1.5.0",
            "_model_name": "DescriptionStyleModel",
            "_view_count": null,
            "_view_module": "@jupyter-widgets/base",
            "_view_module_version": "1.2.0",
            "_view_name": "StyleView",
            "description_width": ""
          }
        },
        "748fdace5a7b4b878e4c3ac485ec4636": {
          "model_module": "@jupyter-widgets/base",
          "model_name": "LayoutModel",
          "model_module_version": "1.2.0",
          "state": {
            "_model_module": "@jupyter-widgets/base",
            "_model_module_version": "1.2.0",
            "_model_name": "LayoutModel",
            "_view_count": null,
            "_view_module": "@jupyter-widgets/base",
            "_view_module_version": "1.2.0",
            "_view_name": "LayoutView",
            "align_content": null,
            "align_items": null,
            "align_self": null,
            "border": null,
            "bottom": null,
            "display": null,
            "flex": null,
            "flex_flow": null,
            "grid_area": null,
            "grid_auto_columns": null,
            "grid_auto_flow": null,
            "grid_auto_rows": null,
            "grid_column": null,
            "grid_gap": null,
            "grid_row": null,
            "grid_template_areas": null,
            "grid_template_columns": null,
            "grid_template_rows": null,
            "height": null,
            "justify_content": null,
            "justify_items": null,
            "left": null,
            "margin": null,
            "max_height": null,
            "max_width": null,
            "min_height": null,
            "min_width": null,
            "object_fit": null,
            "object_position": null,
            "order": null,
            "overflow": null,
            "overflow_x": null,
            "overflow_y": null,
            "padding": null,
            "right": null,
            "top": null,
            "visibility": null,
            "width": null
          }
        },
        "4d693d20e77148ad882f12cd151999ee": {
          "model_module": "@jupyter-widgets/controls",
          "model_name": "ProgressStyleModel",
          "model_module_version": "1.5.0",
          "state": {
            "_model_module": "@jupyter-widgets/controls",
            "_model_module_version": "1.5.0",
            "_model_name": "ProgressStyleModel",
            "_view_count": null,
            "_view_module": "@jupyter-widgets/base",
            "_view_module_version": "1.2.0",
            "_view_name": "StyleView",
            "bar_color": null,
            "description_width": ""
          }
        },
        "729b3ece8d6f4e2ea89fbb1db2235698": {
          "model_module": "@jupyter-widgets/base",
          "model_name": "LayoutModel",
          "model_module_version": "1.2.0",
          "state": {
            "_model_module": "@jupyter-widgets/base",
            "_model_module_version": "1.2.0",
            "_model_name": "LayoutModel",
            "_view_count": null,
            "_view_module": "@jupyter-widgets/base",
            "_view_module_version": "1.2.0",
            "_view_name": "LayoutView",
            "align_content": null,
            "align_items": null,
            "align_self": null,
            "border": null,
            "bottom": null,
            "display": null,
            "flex": null,
            "flex_flow": null,
            "grid_area": null,
            "grid_auto_columns": null,
            "grid_auto_flow": null,
            "grid_auto_rows": null,
            "grid_column": null,
            "grid_gap": null,
            "grid_row": null,
            "grid_template_areas": null,
            "grid_template_columns": null,
            "grid_template_rows": null,
            "height": null,
            "justify_content": null,
            "justify_items": null,
            "left": null,
            "margin": null,
            "max_height": null,
            "max_width": null,
            "min_height": null,
            "min_width": null,
            "object_fit": null,
            "object_position": null,
            "order": null,
            "overflow": null,
            "overflow_x": null,
            "overflow_y": null,
            "padding": null,
            "right": null,
            "top": null,
            "visibility": null,
            "width": null
          }
        },
        "2d5e94cae24744d7948784708c348070": {
          "model_module": "@jupyter-widgets/controls",
          "model_name": "DescriptionStyleModel",
          "model_module_version": "1.5.0",
          "state": {
            "_model_module": "@jupyter-widgets/controls",
            "_model_module_version": "1.5.0",
            "_model_name": "DescriptionStyleModel",
            "_view_count": null,
            "_view_module": "@jupyter-widgets/base",
            "_view_module_version": "1.2.0",
            "_view_name": "StyleView",
            "description_width": ""
          }
        },
        "6098a20f0543444ca02e9aed327bbee4": {
          "model_module": "@jupyter-widgets/controls",
          "model_name": "HBoxModel",
          "model_module_version": "1.5.0",
          "state": {
            "_dom_classes": [],
            "_model_module": "@jupyter-widgets/controls",
            "_model_module_version": "1.5.0",
            "_model_name": "HBoxModel",
            "_view_count": null,
            "_view_module": "@jupyter-widgets/controls",
            "_view_module_version": "1.5.0",
            "_view_name": "HBoxView",
            "box_style": "",
            "children": [
              "IPY_MODEL_111422538af248b1ad127a03ffe60bf8",
              "IPY_MODEL_fe9a71c20165410a84365c52b2dd3d5e",
              "IPY_MODEL_f3d79e837e134eac92028a88fef4d20c"
            ],
            "layout": "IPY_MODEL_f242a23aa919407280d5db23013b0d5a"
          }
        },
        "111422538af248b1ad127a03ffe60bf8": {
          "model_module": "@jupyter-widgets/controls",
          "model_name": "HTMLModel",
          "model_module_version": "1.5.0",
          "state": {
            "_dom_classes": [],
            "_model_module": "@jupyter-widgets/controls",
            "_model_module_version": "1.5.0",
            "_model_name": "HTMLModel",
            "_view_count": null,
            "_view_module": "@jupyter-widgets/controls",
            "_view_module_version": "1.5.0",
            "_view_name": "HTMLView",
            "description": "",
            "description_tooltip": null,
            "layout": "IPY_MODEL_f1f7daeceb314d62896fab92cb6e1a13",
            "placeholder": "​",
            "style": "IPY_MODEL_a199011c1c074d62b9f60293bffbc6de",
            "value": "Training: 100%"
          }
        },
        "fe9a71c20165410a84365c52b2dd3d5e": {
          "model_module": "@jupyter-widgets/controls",
          "model_name": "FloatProgressModel",
          "model_module_version": "1.5.0",
          "state": {
            "_dom_classes": [],
            "_model_module": "@jupyter-widgets/controls",
            "_model_module_version": "1.5.0",
            "_model_name": "FloatProgressModel",
            "_view_count": null,
            "_view_module": "@jupyter-widgets/controls",
            "_view_module_version": "1.5.0",
            "_view_name": "ProgressView",
            "bar_style": "success",
            "description": "",
            "description_tooltip": null,
            "layout": "IPY_MODEL_ad9125c3e67e4f7dafb23163e6dbd5dc",
            "max": 200,
            "min": 0,
            "orientation": "horizontal",
            "style": "IPY_MODEL_51670ac1dd664500b97ccba80e3b6a54",
            "value": 200
          }
        },
        "f3d79e837e134eac92028a88fef4d20c": {
          "model_module": "@jupyter-widgets/controls",
          "model_name": "HTMLModel",
          "model_module_version": "1.5.0",
          "state": {
            "_dom_classes": [],
            "_model_module": "@jupyter-widgets/controls",
            "_model_module_version": "1.5.0",
            "_model_name": "HTMLModel",
            "_view_count": null,
            "_view_module": "@jupyter-widgets/controls",
            "_view_module_version": "1.5.0",
            "_view_name": "HTMLView",
            "description": "",
            "description_tooltip": null,
            "layout": "IPY_MODEL_bef023e4a69441bd954992318a85b565",
            "placeholder": "​",
            "style": "IPY_MODEL_051ffaec6d0f44f1b511a59ac535ff9d",
            "value": " 200/200 [1:06:42&lt;00:00, 20.80s/epoch, train/loss=0.00433, val/loss=0.0168, val/accuracy=99.1, val/ssim=0.913]"
          }
        },
        "f242a23aa919407280d5db23013b0d5a": {
          "model_module": "@jupyter-widgets/base",
          "model_name": "LayoutModel",
          "model_module_version": "1.2.0",
          "state": {
            "_model_module": "@jupyter-widgets/base",
            "_model_module_version": "1.2.0",
            "_model_name": "LayoutModel",
            "_view_count": null,
            "_view_module": "@jupyter-widgets/base",
            "_view_module_version": "1.2.0",
            "_view_name": "LayoutView",
            "align_content": null,
            "align_items": null,
            "align_self": null,
            "border": null,
            "bottom": null,
            "display": null,
            "flex": null,
            "flex_flow": null,
            "grid_area": null,
            "grid_auto_columns": null,
            "grid_auto_flow": null,
            "grid_auto_rows": null,
            "grid_column": null,
            "grid_gap": null,
            "grid_row": null,
            "grid_template_areas": null,
            "grid_template_columns": null,
            "grid_template_rows": null,
            "height": null,
            "justify_content": null,
            "justify_items": null,
            "left": null,
            "margin": null,
            "max_height": null,
            "max_width": null,
            "min_height": null,
            "min_width": null,
            "object_fit": null,
            "object_position": null,
            "order": null,
            "overflow": null,
            "overflow_x": null,
            "overflow_y": null,
            "padding": null,
            "right": null,
            "top": null,
            "visibility": null,
            "width": null
          }
        },
        "f1f7daeceb314d62896fab92cb6e1a13": {
          "model_module": "@jupyter-widgets/base",
          "model_name": "LayoutModel",
          "model_module_version": "1.2.0",
          "state": {
            "_model_module": "@jupyter-widgets/base",
            "_model_module_version": "1.2.0",
            "_model_name": "LayoutModel",
            "_view_count": null,
            "_view_module": "@jupyter-widgets/base",
            "_view_module_version": "1.2.0",
            "_view_name": "LayoutView",
            "align_content": null,
            "align_items": null,
            "align_self": null,
            "border": null,
            "bottom": null,
            "display": null,
            "flex": null,
            "flex_flow": null,
            "grid_area": null,
            "grid_auto_columns": null,
            "grid_auto_flow": null,
            "grid_auto_rows": null,
            "grid_column": null,
            "grid_gap": null,
            "grid_row": null,
            "grid_template_areas": null,
            "grid_template_columns": null,
            "grid_template_rows": null,
            "height": null,
            "justify_content": null,
            "justify_items": null,
            "left": null,
            "margin": null,
            "max_height": null,
            "max_width": null,
            "min_height": null,
            "min_width": null,
            "object_fit": null,
            "object_position": null,
            "order": null,
            "overflow": null,
            "overflow_x": null,
            "overflow_y": null,
            "padding": null,
            "right": null,
            "top": null,
            "visibility": null,
            "width": null
          }
        },
        "a199011c1c074d62b9f60293bffbc6de": {
          "model_module": "@jupyter-widgets/controls",
          "model_name": "DescriptionStyleModel",
          "model_module_version": "1.5.0",
          "state": {
            "_model_module": "@jupyter-widgets/controls",
            "_model_module_version": "1.5.0",
            "_model_name": "DescriptionStyleModel",
            "_view_count": null,
            "_view_module": "@jupyter-widgets/base",
            "_view_module_version": "1.2.0",
            "_view_name": "StyleView",
            "description_width": ""
          }
        },
        "ad9125c3e67e4f7dafb23163e6dbd5dc": {
          "model_module": "@jupyter-widgets/base",
          "model_name": "LayoutModel",
          "model_module_version": "1.2.0",
          "state": {
            "_model_module": "@jupyter-widgets/base",
            "_model_module_version": "1.2.0",
            "_model_name": "LayoutModel",
            "_view_count": null,
            "_view_module": "@jupyter-widgets/base",
            "_view_module_version": "1.2.0",
            "_view_name": "LayoutView",
            "align_content": null,
            "align_items": null,
            "align_self": null,
            "border": null,
            "bottom": null,
            "display": null,
            "flex": null,
            "flex_flow": null,
            "grid_area": null,
            "grid_auto_columns": null,
            "grid_auto_flow": null,
            "grid_auto_rows": null,
            "grid_column": null,
            "grid_gap": null,
            "grid_row": null,
            "grid_template_areas": null,
            "grid_template_columns": null,
            "grid_template_rows": null,
            "height": null,
            "justify_content": null,
            "justify_items": null,
            "left": null,
            "margin": null,
            "max_height": null,
            "max_width": null,
            "min_height": null,
            "min_width": null,
            "object_fit": null,
            "object_position": null,
            "order": null,
            "overflow": null,
            "overflow_x": null,
            "overflow_y": null,
            "padding": null,
            "right": null,
            "top": null,
            "visibility": null,
            "width": null
          }
        },
        "51670ac1dd664500b97ccba80e3b6a54": {
          "model_module": "@jupyter-widgets/controls",
          "model_name": "ProgressStyleModel",
          "model_module_version": "1.5.0",
          "state": {
            "_model_module": "@jupyter-widgets/controls",
            "_model_module_version": "1.5.0",
            "_model_name": "ProgressStyleModel",
            "_view_count": null,
            "_view_module": "@jupyter-widgets/base",
            "_view_module_version": "1.2.0",
            "_view_name": "StyleView",
            "bar_color": null,
            "description_width": ""
          }
        },
        "bef023e4a69441bd954992318a85b565": {
          "model_module": "@jupyter-widgets/base",
          "model_name": "LayoutModel",
          "model_module_version": "1.2.0",
          "state": {
            "_model_module": "@jupyter-widgets/base",
            "_model_module_version": "1.2.0",
            "_model_name": "LayoutModel",
            "_view_count": null,
            "_view_module": "@jupyter-widgets/base",
            "_view_module_version": "1.2.0",
            "_view_name": "LayoutView",
            "align_content": null,
            "align_items": null,
            "align_self": null,
            "border": null,
            "bottom": null,
            "display": null,
            "flex": null,
            "flex_flow": null,
            "grid_area": null,
            "grid_auto_columns": null,
            "grid_auto_flow": null,
            "grid_auto_rows": null,
            "grid_column": null,
            "grid_gap": null,
            "grid_row": null,
            "grid_template_areas": null,
            "grid_template_columns": null,
            "grid_template_rows": null,
            "height": null,
            "justify_content": null,
            "justify_items": null,
            "left": null,
            "margin": null,
            "max_height": null,
            "max_width": null,
            "min_height": null,
            "min_width": null,
            "object_fit": null,
            "object_position": null,
            "order": null,
            "overflow": null,
            "overflow_x": null,
            "overflow_y": null,
            "padding": null,
            "right": null,
            "top": null,
            "visibility": null,
            "width": null
          }
        },
        "051ffaec6d0f44f1b511a59ac535ff9d": {
          "model_module": "@jupyter-widgets/controls",
          "model_name": "DescriptionStyleModel",
          "model_module_version": "1.5.0",
          "state": {
            "_model_module": "@jupyter-widgets/controls",
            "_model_module_version": "1.5.0",
            "_model_name": "DescriptionStyleModel",
            "_view_count": null,
            "_view_module": "@jupyter-widgets/base",
            "_view_module_version": "1.2.0",
            "_view_name": "StyleView",
            "description_width": ""
          }
        }
      }
    },
    "accelerator": "GPU"
  },
  "nbformat": 4,
  "nbformat_minor": 0
}
